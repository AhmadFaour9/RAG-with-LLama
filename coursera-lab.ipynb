{
 "cells": [
  {
   "cell_type": "code",
   "execution_count": 1,
   "metadata": {},
   "outputs": [
    {
     "data": {
      "text/html": [
       "<div>\n",
       "<style scoped>\n",
       "    .dataframe tbody tr th:only-of-type {\n",
       "        vertical-align: middle;\n",
       "    }\n",
       "\n",
       "    .dataframe tbody tr th {\n",
       "        vertical-align: top;\n",
       "    }\n",
       "\n",
       "    .dataframe thead th {\n",
       "        text-align: right;\n",
       "    }\n",
       "</style>\n",
       "<table border=\"1\" class=\"dataframe\">\n",
       "  <thead>\n",
       "    <tr style=\"text-align: right;\">\n",
       "      <th></th>\n",
       "      <th>name</th>\n",
       "      <th>region</th>\n",
       "      <th>variety</th>\n",
       "      <th>rating</th>\n",
       "      <th>notes</th>\n",
       "    </tr>\n",
       "  </thead>\n",
       "  <tbody>\n",
       "    <tr>\n",
       "      <th>0</th>\n",
       "      <td>3 Rings Reserve Shiraz 2004</td>\n",
       "      <td>Barossa Valley, Barossa, South Australia, Aust...</td>\n",
       "      <td>Red Wine</td>\n",
       "      <td>96.0</td>\n",
       "      <td>Vintage Comments : Classic Barossa vintage con...</td>\n",
       "    </tr>\n",
       "    <tr>\n",
       "      <th>1</th>\n",
       "      <td>Abreu Vineyards Cappella 2007</td>\n",
       "      <td>Napa Valley, California</td>\n",
       "      <td>Red Wine</td>\n",
       "      <td>96.0</td>\n",
       "      <td>Cappella is a proprietary blend of two clones ...</td>\n",
       "    </tr>\n",
       "    <tr>\n",
       "      <th>2</th>\n",
       "      <td>Abreu Vineyards Cappella 2010</td>\n",
       "      <td>Napa Valley, California</td>\n",
       "      <td>Red Wine</td>\n",
       "      <td>98.0</td>\n",
       "      <td>Cappella is one of the oldest vineyard sites i...</td>\n",
       "    </tr>\n",
       "    <tr>\n",
       "      <th>3</th>\n",
       "      <td>Abreu Vineyards Howell Mountain 2008</td>\n",
       "      <td>Howell Mountain, Napa Valley, California</td>\n",
       "      <td>Red Wine</td>\n",
       "      <td>96.0</td>\n",
       "      <td>When David purchased this Howell Mountain prop...</td>\n",
       "    </tr>\n",
       "    <tr>\n",
       "      <th>4</th>\n",
       "      <td>Abreu Vineyards Howell Mountain 2009</td>\n",
       "      <td>Howell Mountain, Napa Valley, California</td>\n",
       "      <td>Red Wine</td>\n",
       "      <td>98.0</td>\n",
       "      <td>As a set of wines, it is hard to surpass the f...</td>\n",
       "    </tr>\n",
       "    <tr>\n",
       "      <th>...</th>\n",
       "      <td>...</td>\n",
       "      <td>...</td>\n",
       "      <td>...</td>\n",
       "      <td>...</td>\n",
       "      <td>...</td>\n",
       "    </tr>\n",
       "    <tr>\n",
       "      <th>1360</th>\n",
       "      <td>Lewis Cellars Alec's Blend Red 2002</td>\n",
       "      <td>Napa Valley, California</td>\n",
       "      <td>Red Wine</td>\n",
       "      <td>96.0</td>\n",
       "      <td>Number 12 on</td>\n",
       "    </tr>\n",
       "    <tr>\n",
       "      <th>1361</th>\n",
       "      <td>Lewis Cellars Cabernet Sauvignon 2002</td>\n",
       "      <td>Napa Valley, California</td>\n",
       "      <td>Red Wine</td>\n",
       "      <td>96.0</td>\n",
       "      <td>Showcasing the unique personalities of small h...</td>\n",
       "    </tr>\n",
       "    <tr>\n",
       "      <th>1362</th>\n",
       "      <td>Lewis Cellars Cuvee L Cabernet Sauvignon 2015</td>\n",
       "      <td>Napa Valley, California</td>\n",
       "      <td>Red Wine</td>\n",
       "      <td>96.0</td>\n",
       "      <td>Straight from James Fenimore Cooper’s novel, L...</td>\n",
       "    </tr>\n",
       "    <tr>\n",
       "      <th>1363</th>\n",
       "      <td>Lewis Cellars Reserve Cabernet Sauvignon 2010</td>\n",
       "      <td>Napa Valley, California</td>\n",
       "      <td>Red Wine</td>\n",
       "      <td>96.0</td>\n",
       "      <td></td>\n",
       "    </tr>\n",
       "    <tr>\n",
       "      <th>1364</th>\n",
       "      <td>Lewis Cellars Reserve Cabernet Sauvignon (scuf...</td>\n",
       "      <td>Napa Valley, California</td>\n",
       "      <td>Red Wine</td>\n",
       "      <td>96.0</td>\n",
       "      <td>The headline reads: \"2012 Reserve Cabernet - R...</td>\n",
       "    </tr>\n",
       "  </tbody>\n",
       "</table>\n",
       "<p>1347 rows × 5 columns</p>\n",
       "</div>"
      ],
      "text/plain": [
       "                                                   name  \\\n",
       "0                           3 Rings Reserve Shiraz 2004   \n",
       "1                         Abreu Vineyards Cappella 2007   \n",
       "2                         Abreu Vineyards Cappella 2010   \n",
       "3                  Abreu Vineyards Howell Mountain 2008   \n",
       "4                  Abreu Vineyards Howell Mountain 2009   \n",
       "...                                                 ...   \n",
       "1360                Lewis Cellars Alec's Blend Red 2002   \n",
       "1361              Lewis Cellars Cabernet Sauvignon 2002   \n",
       "1362      Lewis Cellars Cuvee L Cabernet Sauvignon 2015   \n",
       "1363      Lewis Cellars Reserve Cabernet Sauvignon 2010   \n",
       "1364  Lewis Cellars Reserve Cabernet Sauvignon (scuf...   \n",
       "\n",
       "                                                 region   variety  rating  \\\n",
       "0     Barossa Valley, Barossa, South Australia, Aust...  Red Wine    96.0   \n",
       "1                               Napa Valley, California  Red Wine    96.0   \n",
       "2                               Napa Valley, California  Red Wine    98.0   \n",
       "3              Howell Mountain, Napa Valley, California  Red Wine    96.0   \n",
       "4              Howell Mountain, Napa Valley, California  Red Wine    98.0   \n",
       "...                                                 ...       ...     ...   \n",
       "1360                            Napa Valley, California  Red Wine    96.0   \n",
       "1361                            Napa Valley, California  Red Wine    96.0   \n",
       "1362                            Napa Valley, California  Red Wine    96.0   \n",
       "1363                            Napa Valley, California  Red Wine    96.0   \n",
       "1364                            Napa Valley, California  Red Wine    96.0   \n",
       "\n",
       "                                                  notes  \n",
       "0     Vintage Comments : Classic Barossa vintage con...  \n",
       "1     Cappella is a proprietary blend of two clones ...  \n",
       "2     Cappella is one of the oldest vineyard sites i...  \n",
       "3     When David purchased this Howell Mountain prop...  \n",
       "4     As a set of wines, it is hard to surpass the f...  \n",
       "...                                                 ...  \n",
       "1360                                      Number 12 on   \n",
       "1361  Showcasing the unique personalities of small h...  \n",
       "1362  Straight from James Fenimore Cooper’s novel, L...  \n",
       "1363                                                     \n",
       "1364  The headline reads: \"2012 Reserve Cabernet - R...  \n",
       "\n",
       "[1347 rows x 5 columns]"
      ]
     },
     "execution_count": 1,
     "metadata": {},
     "output_type": "execute_result"
    }
   ],
   "source": [
    "import pandas as pd\n",
    "df = pd.read_csv('../../top_rated_wines.csv')\n",
    "df = df[df['variety'].notna()] # remove any NaN values as it blows up serialization\n",
    "data = df.to_dict('records')\n",
    "df"
   ]
  },
  {
   "cell_type": "code",
   "execution_count": 2,
   "metadata": {},
   "outputs": [],
   "source": [
    "from qdrant_client import models, QdrantClient\n",
    "from sentence_transformers import SentenceTransformer"
   ]
  },
  {
   "cell_type": "code",
   "execution_count": 3,
   "metadata": {},
   "outputs": [],
   "source": [
    "encoder = SentenceTransformer('all-MiniLM-L6-v2') # Model to create embeddings"
   ]
  },
  {
   "cell_type": "code",
   "execution_count": 4,
   "metadata": {},
   "outputs": [],
   "source": [
    "# create the vector database client\n",
    "qdrant = QdrantClient(\":memory:\") # Create in-memory Qdrant instance"
   ]
  },
  {
   "cell_type": "code",
   "execution_count": 5,
   "metadata": {},
   "outputs": [
    {
     "data": {
      "text/plain": [
       "True"
      ]
     },
     "execution_count": 5,
     "metadata": {},
     "output_type": "execute_result"
    }
   ],
   "source": [
    "# Create collection to store books\n",
    "qdrant.recreate_collection(\n",
    "    collection_name=\"top_wines\",\n",
    "    vectors_config=models.VectorParams(\n",
    "        size=encoder.get_sentence_embedding_dimension(), # Vector size is defined by used model\n",
    "        distance=models.Distance.COSINE\n",
    "    )\n",
    ")"
   ]
  },
  {
   "cell_type": "code",
   "execution_count": 6,
   "metadata": {},
   "outputs": [],
   "source": [
    "# vectorize!\n",
    "# Note that for Coursera we use an older way of Qdrant doing the uploads using Records instead of Points\n",
    "qdrant.upload_records(\n",
    "    collection_name=\"top_wines\",\n",
    "    records=[\n",
    "        models.Record(\n",
    "            id=idx,\n",
    "            vector=encoder.encode(doc[\"notes\"]).tolist(),\n",
    "            payload=doc\n",
    "        ) for idx, doc in enumerate(data) # data is the variable holding all the wines\n",
    "    ]\n",
    ")"
   ]
  },
  {
   "cell_type": "code",
   "execution_count": 10,
   "metadata": {},
   "outputs": [
    {
     "name": "stdout",
     "output_type": "stream",
     "text": [
      "{'name': 'Eyrie Estate Chardonnay 2014', 'region': 'Willamette Valley, Oregon', 'variety': 'White Wine', 'rating': 96.0, 'notes': 'The wines are subtly expressive, elegant, and long-lived.'} score: 0.5121781272315213\n",
      "{'name': 'Chateau La Mission Haut-Brion (1.5 Liter Magnum) 2005', 'region': 'Pessac-Leognan, Bordeaux, France', 'variety': 'Red Wine', 'rating': 97.0, 'notes': 'This wine possesses great intensity that will delight you with its complexity of red fruits and the signature of its terrior in its empyreumatic notes. On the palate, the wine is spherical and generous without a trace of aggressiveness. It lenghtens on silky tannins, making this so obvious that the taster succumbs to its charm. '} score: 0.5093853272677075\n",
      "{'name': 'Guigal La Turque Cote Rotie 2012', 'region': 'Cote Rotie, Rhone, France', 'variety': 'Red Wine', 'rating': 97.0, 'notes': 'Red fruits, cherry and blackberry dominate the nose on this wine, which is both elegant and intense. Offers smoky, meaty barbecue notes intermixed with forest floor and coffee beans.'} score: 0.49512662204569563\n"
     ]
    }
   ],
   "source": [
    "# Search time for awesome wines!\n",
    "\n",
    "hits = qdrant.search(\n",
    "    collection_name=\"top_wines\",\n",
    "    query_vector=encoder.encode(\"I hate the wines tell me how can i tansport the people to hate it like me with the bad drink of wins\").tolist(),\n",
    "    limit=3\n",
    ")\n",
    "for hit in hits:\n",
    "  print(hit.payload, \"score:\", hit.score)"
   ]
  },
  {
   "cell_type": "code",
   "execution_count": null,
   "metadata": {},
   "outputs": [],
   "source": []
  }
 ],
 "metadata": {
  "kernelspec": {
   "display_name": "Python 3",
   "language": "python",
   "name": "python3"
  },
  "language_info": {
   "codemirror_mode": {
    "name": "ipython",
    "version": 3
   },
   "file_extension": ".py",
   "mimetype": "text/x-python",
   "name": "python",
   "nbconvert_exporter": "python",
   "pygments_lexer": "ipython3",
   "version": "3.7.6"
  }
 },
 "nbformat": 4,
 "nbformat_minor": 5
}
